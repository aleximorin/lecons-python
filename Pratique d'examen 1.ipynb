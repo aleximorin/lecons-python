{
 "cells": [
  {
   "cell_type": "markdown",
   "metadata": {
    "deletable": false,
    "editable": false
   },
   "source": [
    "# Pratique pour l'examen 1\n",
    "\n",
    "Félicitation! Voilà 10 ans que vous avez terminé votre baccalauréat en sciences de la terre à l'université Laval. Vous êtes maintenant consultant en géostatistiques et vous avez été choisi pour effectuer l'analyse des données géologiques et géochimiques d'une compagnie d'exploration. Armé d'un fichier ``csv`` et d'un interpréteur ``python``, vous devrez établir (ou non!) des liens statistiques entre les différentes données disponibles."
   ]
  },
  {
   "cell_type": "markdown",
   "metadata": {
    "deletable": false,
    "editable": false
   },
   "source": [
    "## Que contient le dossier?\n",
    "\n",
    "Déboussolé, vous pensez avoir complètement oublié comment vous servir de ``python``. Votre client vous regarde d'un air impatient: il veut savoir ce que contient le fichier ``donnees_geochimiques.csv`` que lui a envoyé l'équipe de terrain. Faites lui un compte-rendu.\n",
    "\n",
    "### Vous devez extraire les données depuis le fichier ``csv`` disponible. De plus, déclarez une variable au nom évocateur pour chacune des colonnes fournies.\n"
   ]
  },
  {
   "cell_type": "code",
   "execution_count": 2,
   "metadata": {
    "deletable": false
   },
   "outputs": [],
   "source": [
    "# Entre ton code ici"
   ]
  },
  {
   "cell_type": "markdown",
   "metadata": {
    "deletable": false,
    "editable": false
   },
   "source": [
    "### Justifie ta réponse ici"
   ]
  },
  {
   "cell_type": "markdown",
   "metadata": {
    "deletable": false
   },
   "source": []
  },
  {
   "cell_type": "markdown",
   "metadata": {
    "deletable": false,
    "editable": false
   },
   "source": [
    "Bravo, vous avez sauvé la mise (pour l'instant?)! Le chargé de projet de l'entreprise qui vous a engagé, Johnathan, est satisfait. Clairement, vous maîtrisez ``python``! Par contre, maîtriserez vous les statistiques? \n",
    "\n",
    "## Les données elle même\n",
    "Johnathan a très hâte de visualiser la distribution des différentes variables. Comme vous savez si bien le faire, fournissez lui des graphiques montrant la distribution des données géochimiques!\n",
    "\n",
    "### Fournis à un Johnathan un histograme pour chacun des éléments du jeu de données. Si la distribution des valeurs brutes ne semble pas être normale, quelle transformation essaie-t-on habituellement?\n",
    "\n",
    "#### Rapporte la moyenne et l'écart-type de chacun des éléments.\n",
    "\n",
    "#### Points bonus!  Assure toi d'avoir le nombre bon nombre de classes!"
   ]
  },
  {
   "cell_type": "code",
   "execution_count": 3,
   "metadata": {
    "deletable": false
   },
   "outputs": [],
   "source": [
    "# Entre ton code ici"
   ]
  },
  {
   "cell_type": "markdown",
   "metadata": {},
   "source": [
    "### Justifie ta réponse ici:"
   ]
  },
  {
   "cell_type": "markdown",
   "metadata": {
    "deletable": false
   },
   "source": []
  },
  {
   "cell_type": "markdown",
   "metadata": {
    "deletable": false,
    "editable": false
   },
   "source": [
    "Wow! Très jolis graphiques. Johnathan est convaincu que les distributions des concentrations suivent une loi normale. \n",
    "Heureusement, tu lui dis que toi, tu connais bien les statistiques et qu'un simple graphique ne suffit pas pour appuyer une déclaration de la sorte. Décidé, tu dépoussières tes notes de cours de *GGL-2601* et te rappelles l'existence d'un certain test statistique...\n",
    "\n",
    "### Effectue le test statistique approprié sur les concentrations disponibles pour vérifier la normalité des distributions à un seuil de 5%. \n",
    "\n",
    "#### Points bonus! Construis le graphique souvent affiché avec ce test! \n",
    "\n",
    "##### Points extra bonus! Peux tu expliquer la non-normalité surprenante, si c'est le cas, des distributions? Regarde l'équation pour la valeur critique du test statistique!\n"
   ]
  },
  {
   "cell_type": "code",
   "execution_count": 4,
   "metadata": {
    "deletable": false
   },
   "outputs": [],
   "source": [
    "# entre ton code ici"
   ]
  },
  {
   "cell_type": "markdown",
   "metadata": {
    "deletable": false,
    "editable": false
   },
   "source": [
    "### Justifie ta réponse ici: "
   ]
  },
  {
   "cell_type": "markdown",
   "metadata": {
    "deletable": false
   },
   "source": []
  },
  {
   "cell_type": "markdown",
   "metadata": {
    "deletable": false,
    "editable": false
   },
   "source": [
    "Johnathan est très impressionné par tes habiletés statistiques. Il aimerait maintenant pouvoir mieux comprendre les relations entre les différentes concentrations du jeu de données. Il a déja lu qu'il existait un lien important entre l'uranium et le plomb! Apparement que l'uranium devient du plomb avec l'âge. Étrange non?\n",
    "\n",
    "### Consulte toutes les relations possibles entre les éléments fourni! Affiche un graphique montrant la relation entre les variables. Assure toi de supporter tes graphiques avec un coefficient quantifiant la corrélation.\n",
    "### Calcule également un coefficient statistique approprié pour savoir si la relation est statistiquement significative à un seuil de 5%. \n",
    "\n",
    "#### Points bonus! Est-ce que la corrélation significative (ou non) te semble juste dans tout les cas? Regarde l'équation du test statistique! \n"
   ]
  },
  {
   "cell_type": "code",
   "execution_count": 5,
   "metadata": {
    "deletable": false
   },
   "outputs": [],
   "source": [
    "# Entre ton code ici"
   ]
  },
  {
   "cell_type": "markdown",
   "metadata": {
    "deletable": false,
    "editable": false
   },
   "source": [
    "### Justifie ta réponse ici: \n",
    "\n"
   ]
  },
  {
   "cell_type": "markdown",
   "metadata": {
    "deletable": false
   },
   "source": []
  },
  {
   "cell_type": "markdown",
   "metadata": {
    "deletable": false,
    "editable": false
   },
   "source": [
    "Johnathan est content mais surpris des résultats par rapport à l'uranium et le plomb. Il ne s'attendait pas à de tels résultats! Il souhaite pousser l'analyse un peu plus loin.\n",
    "\n",
    "À l'aide du logarithme des valeurs de plomb et de molybdène, Johnathan souhaiterait pouvoir prédire la valeur du logarithme de l'uranium.\n",
    "\n",
    "### Suggères à Johnathan une méthode statistique appropriée. Est-ce que la méthode est justifiée pour les deux éléments? Justifie ta réponse en discutant du coefficient statistique approprié et en faisant un test d'analyse de la variance à un seuil de 5%. Est-ce que l'erreur sur les prédictions est bien distribuée?\n",
    "\n",
    "### Pour une concentration en molybdène ou en plomb de 1 ppm, trouves la concentration en uranium équivalente selon la méthode utilisée. \n",
    "\n",
    "#### Points bonus:  Quel élément semble un meilleur indicateur de la concentration en uranium?\n"
   ]
  },
  {
   "cell_type": "code",
   "execution_count": 6,
   "metadata": {
    "deletable": false
   },
   "outputs": [],
   "source": [
    "# Entre ton code ici"
   ]
  },
  {
   "cell_type": "markdown",
   "metadata": {
    "deletable": false,
    "editable": false
   },
   "source": [
    "### Justifie ta réponse ici"
   ]
  },
  {
   "cell_type": "code",
   "execution_count": null,
   "metadata": {},
   "outputs": [],
   "source": []
  },
  {
   "cell_type": "markdown",
   "metadata": {
    "deletable": false
   },
   "source": []
  },
  {
   "cell_type": "markdown",
   "metadata": {
    "deletable": false,
    "editable": false
   },
   "source": [
    "Johnathan est bien content des résultats et il est prêt à les envoyer à l'équipe d'exploration. Il aimerait pouvoir leur montrer des statistique de la variance spatiale des éléments indicateurs de l'uranium. Selon ton expérience, il aimerait savoir quel genre de statistique il pourrait utiliser! Pourrais-tu lui suggérer une méthode?\n",
    "\n",
    "### Décrit à Johnathan une méthode pouvant décrire la variance spatiale du molybdène et du plomb. Montre lui un exemple pour les deux éléments en construisant les graphiques appropriés ainsi qu'un modèle théorique! \n",
    "\n",
    "### Fais attention pour bien expliquer la signification des différents coefficients impliqués dans le modèle théorique."
   ]
  },
  {
   "cell_type": "code",
   "execution_count": 7,
   "metadata": {
    "deletable": false
   },
   "outputs": [],
   "source": [
    "# Entre ton code ici"
   ]
  },
  {
   "cell_type": "markdown",
   "metadata": {
    "deletable": false,
    "editable": false
   },
   "source": [
    "### Justifie ta réponse ici:"
   ]
  },
  {
   "cell_type": "markdown",
   "metadata": {
    "deletable": false
   },
   "source": []
  }
 ],
 "metadata": {
  "celltoolbar": "Éditer les Méta-Données",
  "kernelspec": {
   "display_name": "Python 3",
   "language": "python",
   "name": "python3"
  },
  "language_info": {
   "codemirror_mode": {
    "name": "ipython",
    "version": 3
   },
   "file_extension": ".py",
   "mimetype": "text/x-python",
   "name": "python",
   "nbconvert_exporter": "python",
   "pygments_lexer": "ipython3",
   "version": "3.8.5"
  }
 },
 "nbformat": 4,
 "nbformat_minor": 4
}
