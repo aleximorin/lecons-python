{
 "cells": [
  {
   "cell_type": "markdown",
   "id": "statewide-apparatus",
   "metadata": {},
   "source": [
    "# Problème 1: Interpolation\n",
    "\n",
    "Des données en x et y sont fournies dans le fichier ``donnees_geochimiques.csv``.\n",
    "\n",
    "- Utilise l'interpolation linéaire pour générer une carte des concentrations en uranium.\n",
    "- Utilise le krigeage pour générer une carte des concentrations en uranium.\n",
    "\n",
    "- Quelles sont les principales différences?"
   ]
  },
  {
   "cell_type": "code",
   "execution_count": 140,
   "id": "purple-frederick",
   "metadata": {},
   "outputs": [],
   "source": [
    "import ulgeostat as ul\n",
    "import numpy as np\n",
    "import matplotlib.pyplot as plt\n",
    "from pykrige import OrdinaryKriging\n",
    "from scipy.interpolate import griddata"
   ]
  },
  {
   "cell_type": "markdown",
   "id": "quarterly-ideal",
   "metadata": {},
   "source": [
    "# Problème 2: Données d'orientation\n",
    "Les données dans le vecteur ``directions`` contiennent les directions de paléocourants observés sur des fossiles. \n",
    "- Indique l'orientation moyenne des paléocourants.\n",
    "- Indique si la distribution est uniforme ou s'il existe une orientation préférentielle."
   ]
  },
  {
   "cell_type": "code",
   "execution_count": 141,
   "id": "scheduled-thermal",
   "metadata": {},
   "outputs": [],
   "source": [
    "directions = np.array([132, 122, 145, 114, 314, 119, 114, 65, 105, 148, 133, 176, 142, 119, 104, 144, 96, 112, 274])\n"
   ]
  },
  {
   "cell_type": "markdown",
   "id": "talented-secondary",
   "metadata": {},
   "source": [
    "# Problème 3: Données temporelles\n",
    "\n",
    "Le vecteur ``lits`` indique la position de lits de bentonite le long d'un forage. Chaque lit indique un évènement volcanique. \n",
    "\n",
    "- Indique si la distribution des évènements volcanique est aléatoire.\n"
   ]
  },
  {
   "cell_type": "code",
   "execution_count": 142,
   "id": "graduate-injury",
   "metadata": {},
   "outputs": [],
   "source": [
    "lits = [0.0, 7.77, 14.1, 14.22, 14.47, 14.5, 14.51, 14.55, 18.04, 28.02, 28.12, 28.17, 28.27, 138.28, 138.42, 138.87, 138.87, 138.9, 144.35, 144.35, 144.35, 332.76, 332.77, 332.79, 332.79]\n"
   ]
  }
 ],
 "metadata": {
  "kernelspec": {
   "display_name": "Python 3",
   "language": "python",
   "name": "python3"
  },
  "language_info": {
   "codemirror_mode": {
    "name": "ipython",
    "version": 3
   },
   "file_extension": ".py",
   "mimetype": "text/x-python",
   "name": "python",
   "nbconvert_exporter": "python",
   "pygments_lexer": "ipython3",
   "version": "3.8.5"
  }
 },
 "nbformat": 4,
 "nbformat_minor": 5
}
