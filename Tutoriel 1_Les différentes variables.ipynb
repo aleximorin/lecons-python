{
 "cells": [
  {
   "cell_type": "markdown",
   "metadata": {},
   "source": [
    "# Salut Thomas!\n",
    "Je fais un test avec ce genre de format. Tu devrais pouvoir utiliser ce document sans avoir à installer quelque chose en particulier... On verra si ça marche ensemble.\n",
    "\n",
    "C'est un *jupyter notebook*! Ça interprète le code en python sous forme de cellule et je trouve que c'est pratique pour l'éducation. J'ai comme projet de demander à Christian de remonter ses cours utilisant python avec ce format alors c'est peut-être un test! J'apprends moi aussi à utiliser cet outil, je n'ai jamais travaillé avec ça.\n",
    "\n",
    "Les *notebooks* sont composés de cellule, comportant soit du texte ou bien du code. Celle-ci contient du texte, pouvant te montrer des instructions."
   ]
  },
  {
   "cell_type": "code",
   "execution_count": 114,
   "metadata": {},
   "outputs": [
    {
     "name": "stdout",
     "output_type": "stream",
     "text": [
      "Salut Thomas!\n"
     ]
    }
   ],
   "source": [
    "# Cette cellule contient du code que tu peux exécuter à l'aide du ti-piton \"Exécuter\" en haut ou bien en appuyant sur \n",
    "# \"ctrl+enter\"\n",
    "\n",
    "print('Salut Thomas!')"
   ]
  },
  {
   "cell_type": "markdown",
   "metadata": {},
   "source": [
    "Maintenant qu'on connait les deux différents types de cellules que nous utiliserons dans un notebook jupyter, on peut commencer à parler de python pour de vrai!\n",
    "\n",
    "# python, kossé ça?\n",
    "\n",
    "C'est un langage de programmation *interprété* et *non-typé*. La première description ne nous servira pas, mais la deuxième sera approfondie. Ça veut dire que les variables qu'on utilise ne serons pas forcément fixes! Je m'explique:\n",
    "\n",
    "Il existe plusieurs types de variables:\n",
    "* Des chaînes de caractères `str`, pour *string of characters*\n",
    "* Des nombres entiers `int`, pour *integer*\n",
    "* Des nombres réels `float`, pour *floating number*\n",
    "* Des listes `list`\n",
    "* Et bien d'autres!\n",
    "\n",
    "Nous explorerons les différentes sortes de variables dans les cellules suivantes...\n"
   ]
  },
  {
   "cell_type": "code",
   "execution_count": 115,
   "metadata": {
    "scrolled": true
   },
   "outputs": [],
   "source": [
    "# On peut commencer par définir une variable en lui choisissant un nom et puis une valeur.\n",
    "# En voilà un exemple. Pour créer une chaîne de caractères, tu dois entourer le mot en question par '', \"\" ou bien \"\"\" \"\"\":\n",
    "nom = 'Thomas'"
   ]
  },
  {
   "cell_type": "code",
   "execution_count": 116,
   "metadata": {},
   "outputs": [
    {
     "name": "stdout",
     "output_type": "stream",
     "text": [
      "Thomas\n"
     ]
    }
   ],
   "source": [
    "# On peut ensuite demander à python de nous montrer la valeur de cette variable avec la commande 'print(variable)'\n",
    "# Tu dois avoir exécuté la cellule précédente avant d'exécuter celle-ci, \n",
    "# ou bien le notebook n'aura jamais enregistré la variable 'nom'\n",
    "print(nom)"
   ]
  },
  {
   "cell_type": "code",
   "execution_count": 117,
   "metadata": {},
   "outputs": [
    {
     "name": "stdout",
     "output_type": "stream",
     "text": [
      "<class 'str'>\n"
     ]
    }
   ],
   "source": [
    "# La variable nom est une chaîne de caractère, une str. \n",
    "# On peut s'en assurer en demandant à python avec la commande 'type(variable')'\n",
    "# Encore une fois, la commande print(x) nous permet d'imprimer la valeur de x\n",
    "print(type(nom))"
   ]
  },
  {
   "cell_type": "code",
   "execution_count": 118,
   "metadata": {},
   "outputs": [
    {
     "name": "stdout",
     "output_type": "stream",
     "text": [
      "31\n"
     ]
    }
   ],
   "source": [
    "# Thomas a surement un âge aussi, non?\n",
    "age = 31\n",
    "print(age)"
   ]
  },
  {
   "cell_type": "code",
   "execution_count": 119,
   "metadata": {},
   "outputs": [
    {
     "name": "stdout",
     "output_type": "stream",
     "text": [
      "<class 'int'>\n"
     ]
    }
   ],
   "source": [
    "# La variable age est un nombre, mais un nombre entier, un 'int':\n",
    "print(type(age))"
   ]
  },
  {
   "cell_type": "code",
   "execution_count": 120,
   "metadata": {},
   "outputs": [
    {
     "name": "stdout",
     "output_type": "stream",
     "text": [
      "3.1416\n",
      "<class 'float'>\n"
     ]
    }
   ],
   "source": [
    "# Il existe aussi d'autres sortes de nombres (bien sûr), comme des nombres réels, aussi appelées à virgules flottantes, \n",
    "# ou simplement 'float'\n",
    "pi = 3.1416\n",
    "print(pi)\n",
    "print(type(pi))"
   ]
  },
  {
   "cell_type": "markdown",
   "metadata": {},
   "source": [
    "Python interprète automatiquement le genre d'une cellule (tellement 2012) pour économiser la mémoire. Python est en fait une grosse calculatrice programmable, il est normal de s'intéresser à la façon que les différentes variables interagissent entre elles, c'est à dire comment on peut faire des opérations. Reprenons les variables déclarées plus haut!\n"
   ]
  },
  {
   "cell_type": "code",
   "execution_count": 121,
   "metadata": {},
   "outputs": [
    {
     "name": "stdout",
     "output_type": "stream",
     "text": [
      "39\n",
      "<class 'int'>\n"
     ]
    }
   ],
   "source": [
    "# Ton age est un nombre entier. Que se passe-t-il si on l'additionne à d'autres nombres?\n",
    "reponse = age + 8\n",
    "print(reponse)\n",
    "print(type(reponse))"
   ]
  },
  {
   "cell_type": "code",
   "execution_count": 122,
   "metadata": {},
   "outputs": [
    {
     "name": "stdout",
     "output_type": "stream",
     "text": [
      "34.1416\n",
      "<class 'float'>\n"
     ]
    }
   ],
   "source": [
    "# Entier + Entier = Entier, ok ça marche, mais que dire des autres?\n",
    "reponse2 = age + pi\n",
    "print(reponse2)\n",
    "print(type(reponse2))"
   ]
  },
  {
   "cell_type": "code",
   "execution_count": 123,
   "metadata": {},
   "outputs": [
    {
     "ename": "TypeError",
     "evalue": "unsupported operand type(s) for +: 'int' and 'str'",
     "output_type": "error",
     "traceback": [
      "\u001b[1;31m---------------------------------------------------------------------------\u001b[0m",
      "\u001b[1;31mTypeError\u001b[0m                                 Traceback (most recent call last)",
      "\u001b[1;32m<ipython-input-123-2b297e252b08>\u001b[0m in \u001b[0;36m<module>\u001b[1;34m\u001b[0m\n\u001b[0;32m      1\u001b[0m \u001b[1;31m# C'est évident! Entier + Réel = Réel. Voilà, logique. Que se passe-t-il si on additione d'autres types de variables, comme...\u001b[0m\u001b[1;33m\u001b[0m\u001b[1;33m\u001b[0m\u001b[1;33m\u001b[0m\u001b[0m\n\u001b[1;32m----> 2\u001b[1;33m \u001b[0mreponse3\u001b[0m \u001b[1;33m=\u001b[0m \u001b[0mage\u001b[0m \u001b[1;33m+\u001b[0m \u001b[0mnom\u001b[0m\u001b[1;33m\u001b[0m\u001b[1;33m\u001b[0m\u001b[0m\n\u001b[0m\u001b[0;32m      3\u001b[0m \u001b[1;33m\u001b[0m\u001b[0m\n",
      "\u001b[1;31mTypeError\u001b[0m: unsupported operand type(s) for +: 'int' and 'str'"
     ]
    }
   ],
   "source": [
    "# C'est évident! Entier + Réel = Réel. Voilà, logique. Que se passe-t-il si on additione d'autres types de variables, comme...\n",
    "reponse3 = age + nom\n",
    "\n"
   ]
  },
  {
   "cell_type": "markdown",
   "metadata": {},
   "source": [
    "On obtient une erreur! Bien sûr, il est ilogique, dans notre contexte, d'additionner un entier et des mots! Python a prévu pour chacun des types de bases des opérations et rapporte une erreur si l'opérateur, ici '+', n'est pas en contexte."
   ]
  },
  {
   "cell_type": "code",
   "execution_count": 124,
   "metadata": {},
   "outputs": [
    {
     "name": "stdout",
     "output_type": "stream",
     "text": [
      "26\n",
      "1302\n",
      "15.5\n",
      "48446.443139495444\n",
      "3\n"
     ]
    }
   ],
   "source": [
    "# Tu peux effectuer toutes les opérations et plus encore avec python, comme:\n",
    "\n",
    "# la soustraction, avec -\n",
    "print(age - 5)\n",
    "\n",
    "# la multiplication, avec *\n",
    "print(age * 42)\n",
    "\n",
    "# la division, avec /\n",
    "print(age/2)\n",
    "\n",
    "# l'exponentiation, avec **\n",
    "print(age**pi)\n",
    "\n",
    "# modulo (le reste d'une division) avec %\n",
    "print(age % 7)"
   ]
  },
  {
   "cell_type": "code",
   "execution_count": 126,
   "metadata": {},
   "outputs": [
    {
     "name": "stdout",
     "output_type": "stream",
     "text": [
      "Mon nom est Thomas\n"
     ]
    }
   ],
   "source": [
    "# On a tenté d'additioner un chiffre et un mot plus tôt et ça ne faisait pas de sens. \n",
    "# C'est très important de noter que tu peux additioner des mots ensembles!\n",
    "print('Mon nom est ' + nom)"
   ]
  },
  {
   "cell_type": "markdown",
   "metadata": {},
   "source": [
    "Ici, j'ai additioné `'Mon nom est'` et `nom`.\n",
    "\n",
    "C'est important de noter que même si je n'ai pas storé `'Mon nom est'` dans une variable, `'Mon nom est'` est quand même un `str`!\n",
    "\n",
    "Essayons d'autres choses alors:"
   ]
  },
  {
   "cell_type": "code",
   "execution_count": 127,
   "metadata": {},
   "outputs": [
    {
     "ename": "TypeError",
     "evalue": "can only concatenate str (not \"int\") to str",
     "output_type": "error",
     "traceback": [
      "\u001b[1;31m---------------------------------------------------------------------------\u001b[0m",
      "\u001b[1;31mTypeError\u001b[0m                                 Traceback (most recent call last)",
      "\u001b[1;32m<ipython-input-127-60bcffcbbd69>\u001b[0m in \u001b[0;36m<module>\u001b[1;34m\u001b[0m\n\u001b[1;32m----> 1\u001b[1;33m \u001b[0mprint\u001b[0m\u001b[1;33m(\u001b[0m\u001b[1;34m'Mon âge est: '\u001b[0m \u001b[1;33m+\u001b[0m \u001b[0mage\u001b[0m\u001b[1;33m)\u001b[0m\u001b[1;33m\u001b[0m\u001b[1;33m\u001b[0m\u001b[0m\n\u001b[0m",
      "\u001b[1;31mTypeError\u001b[0m: can only concatenate str (not \"int\") to str"
     ]
    }
   ],
   "source": [
    "print('Mon âge est: ' + age)"
   ]
  },
  {
   "cell_type": "markdown",
   "metadata": {},
   "source": [
    "Encore un message d'erreur! C'est normal, car ici `age` est encore un nombre entier, d'où le message d'erreur:\n",
    "\n",
    "`Can only concatenate str (not \"int\") to str`\n",
    "\n",
    "Qui peut aussi être lu: Je ne peux additionner (ou concaténer, dans un langage d'informaticien pédant) des strings qu'avec des strings! \n",
    "\n",
    "Le problème est aisément résolu en convertissant age en string de cette façon:"
   ]
  },
  {
   "cell_type": "code",
   "execution_count": 128,
   "metadata": {},
   "outputs": [
    {
     "name": "stdout",
     "output_type": "stream",
     "text": [
      "<class 'str'>\n",
      "Mon âge est 31\n"
     ]
    }
   ],
   "source": [
    "# la commande str(x) change la variable x, si elle le peut, en chaîne de lettres.\n",
    "age_str = str(age)\n",
    "\n",
    "# On peut vérifier son type:\n",
    "print(type(age_str))\n",
    "\n",
    "# Ça marche tu????\n",
    "print('Mon âge est ' + str(age))"
   ]
  },
  {
   "cell_type": "markdown",
   "metadata": {},
   "source": [
    "Voilà donc les principaux types de variables que python peut utiliser. Un type de variable très intéressant, que j'ai mentionné plus haut, ne fais pas partie de cette liste. Ce type est un peu plus compliqué, mais oh combien utile! Tu vas voir, ça va rester intuitif."
   ]
  },
  {
   "cell_type": "markdown",
   "metadata": {},
   "source": [
    "# Les listes!\n",
    "On peut créer une liste dans python avec les petits *brackets* `[]` que tu peux créer avec `cmd + 9` et `cmd + 0` sur un clavier qwerty, sur Windows. Je réalise que ce cas de figure ne s'applique vraiment pas à toi. Je t'invite à gosser sur ton clavier pendant quelques minutes si tu cherches comment faire ces caractères. Sinon ce lien: https://superuser.com/questions/1297592/shortcut-for-brackets-on-mac-os pourra peut-être t'aider???"
   ]
  },
  {
   "cell_type": "markdown",
   "metadata": {},
   "source": [
    "# Mais bon kossé ça une liste\n",
    "\n",
    "Une liste c'est simplement... une liste d'éléments. Voyons voir:"
   ]
  },
  {
   "cell_type": "code",
   "execution_count": 129,
   "metadata": {},
   "outputs": [
    {
     "name": "stdout",
     "output_type": "stream",
     "text": [
      "<class 'list'>\n",
      "['Thomas', 31, 3.1416]\n"
     ]
    }
   ],
   "source": [
    "ma_liste = [nom, age, pi]\n",
    "print(type(ma_liste))\n",
    "print(ma_liste)"
   ]
  },
  {
   "cell_type": "markdown",
   "metadata": {},
   "source": [
    "Une liste sert tout bonnement à ranger des choses! Par contre, quand on range des choses, il faut savoir comment les retrouver. On peut *indexer* une liste, avec, encore une fois, nos amis les *brackets*. Python, étant créés par de pédants informaticiens, commence à compter à partir de zéro. Si tu veux donc accéder au premier élément d'une liste, tu devras donc lui demander le 0$^\\textrm{e}$ élément, comme suit:"
   ]
  },
  {
   "cell_type": "code",
   "execution_count": 130,
   "metadata": {},
   "outputs": [
    {
     "name": "stdout",
     "output_type": "stream",
     "text": [
      "Thomas\n",
      "31\n",
      "3.1416\n"
     ]
    }
   ],
   "source": [
    "# Accéder au premier élément, le 0e:\n",
    "le_premier = ma_liste[0]\n",
    "print(le_premier)\n",
    "le_deuxieme = ma_liste[1]\n",
    "print(le_deuxieme)\n",
    "le_troisieme = ma_liste[2]\n",
    "print(le_troisieme)"
   ]
  },
  {
   "cell_type": "markdown",
   "metadata": {},
   "source": [
    "Comme notre liste ici n'a que trois éléments, tu ne peux pour l'instant qu'accéder à trois éléments. Par exemple:"
   ]
  },
  {
   "cell_type": "code",
   "execution_count": 131,
   "metadata": {},
   "outputs": [
    {
     "ename": "IndexError",
     "evalue": "list index out of range",
     "output_type": "error",
     "traceback": [
      "\u001b[1;31m---------------------------------------------------------------------------\u001b[0m",
      "\u001b[1;31mIndexError\u001b[0m                                Traceback (most recent call last)",
      "\u001b[1;32m<ipython-input-131-e1b0d40e6c6e>\u001b[0m in \u001b[0;36m<module>\u001b[1;34m\u001b[0m\n\u001b[1;32m----> 1\u001b[1;33m \u001b[0mle_quatrieme\u001b[0m \u001b[1;33m=\u001b[0m \u001b[0mma_liste\u001b[0m\u001b[1;33m[\u001b[0m\u001b[1;36m3\u001b[0m\u001b[1;33m]\u001b[0m\u001b[1;33m\u001b[0m\u001b[1;33m\u001b[0m\u001b[0m\n\u001b[0m",
      "\u001b[1;31mIndexError\u001b[0m: list index out of range"
     ]
    }
   ],
   "source": [
    "le_quatrieme = ma_liste[3]"
   ]
  },
  {
   "cell_type": "markdown",
   "metadata": {},
   "source": [
    "Accéder au troisième élément d'une liste de longueur `3`nous retourne une erreur. Les listes, dans python, ont une longueur mutable, c'est à dire qu'elle peut changer. On peut rajouter un élément à une liste quelconque avec la commande `append`. On peut ensuite vérifier la longueur de cette liste, avec la commande  `len(x)`:\n"
   ]
  },
  {
   "cell_type": "code",
   "execution_count": 132,
   "metadata": {},
   "outputs": [
    {
     "name": "stdout",
     "output_type": "stream",
     "text": [
      "3\n",
      "['Thomas', 31, 3.1416]\n",
      "4\n",
      "['Thomas', 31, 3.1416, 'Un nouvel ordinateur']\n"
     ]
    }
   ],
   "source": [
    "print(len(ma_liste))\n",
    "print(ma_liste)\n",
    "ma_liste.append('Un nouvel ordinateur')\n",
    "print(len(ma_liste))\n",
    "print(ma_liste)\n"
   ]
  },
  {
   "cell_type": "markdown",
   "metadata": {},
   "source": [
    "Tu dois noter que la façon dont les notebooks fonctionnent, la variable `ma_liste` sera mise à jour chaque fois que tu roules la cellule plus haute. Essaie de la rouler quelque fois pour voir. En mathématiques, on peut s'imaginer les listes un peu comme des vecteurs. Nous y reviendrons dans une leçon prochaine."
   ]
  },
  {
   "cell_type": "markdown",
   "metadata": {},
   "source": [
    "Un intérêt majeur des listes est l'usage de *boucles*. Ces boucles servent à exécuter une ou des commandes à plusieurs reprises. Il existe deux types de boucles: `for` et `while`. Leurs noms sont assez intuitifs. La première est la plus souvent utilisée."
   ]
  },
  {
   "cell_type": "code",
   "execution_count": 133,
   "metadata": {},
   "outputs": [
    {
     "name": "stdout",
     "output_type": "stream",
     "text": [
      "Thomas\n",
      "31\n",
      "3.1416\n",
      "Un nouvel ordinateur\n",
      "Tout les éléments ont été imprimés\n"
     ]
    }
   ],
   "source": [
    "# La boucle 'for' utilise tour à tour chaque élément de ta liste. \n",
    "# Les lignes suivantes peuvent se lire: \"Pour chaque élément dans ma_liste, imprime l'élément demandé\"\n",
    "for element in ma_liste:\n",
    "    print(element) # Cette ligne est exécutée une fois par pas dans la boucle\n",
    "    \n",
    "print('Tout les éléments ont été imprimés') # Cette ligne est imprimée à la fin"
   ]
  },
  {
   "cell_type": "markdown",
   "metadata": {},
   "source": [
    "La boucle `for` du haut imprime chaque élément de la liste jusqu'à ce que tout les éléments aient été imprimés. Dans une boucle, que ce soit ``for`` ou ``while``, chaque ligne tabulée ou espacée de quatre 'space bars' est exécutée une fois.\n",
    "\n",
    "### Important!\n",
    "\n",
    "Tu peux entrer quatres espaces d'un seul coup en appuyant sur `tab`, le ti-piton en haut de `caps-lock`!\n",
    "\n",
    "C'est beaucoup de contenu jusqu'à présent! C'est normal que tu puisses être confu, mais essaie de rester avec moi pour encore quelques cellules...\n",
    "\n",
    "Le prochain type de boucle, la boucle `while`, demande l'introduction d'un nouveau type de variable, les `bool`, pour 'bouléen'.\n",
    "\n",
    "Ces variables prennent leurs valeurs entre `0` et `1`, que tu peux très bien interpréter comme 'Faux' et 'Vrai'. Voyons voir:"
   ]
  },
  {
   "cell_type": "code",
   "execution_count": 134,
   "metadata": {},
   "outputs": [
    {
     "name": "stdout",
     "output_type": "stream",
     "text": [
      "False\n"
     ]
    }
   ],
   "source": [
    "print(age > 32)"
   ]
  },
  {
   "cell_type": "markdown",
   "metadata": {},
   "source": [
    "La dernière cellule rajoute beaucoup de nouveauté! \n",
    "\n",
    "Voyons voir:\n",
    "* L'introduction de l'opérateur plus grand que, ou bien simplement `>`\n",
    "    * Il existe aussi bien nos autres amis, comme plus petit que `<`, plus petit ou égal `<=`, plus grand ou égal `>=` et bien sur est égal `==` ou n'est pas égal `!=`\n",
    "* Mais aussi les fameux booléens! Ici `age > 32` retourne `False` ou faux, car tu n'as que 31 ans (non?)\n",
    "Les booléens peuvent aussi être storés dans des variables, voire rajouté à notre liste de tout à l'heure:\n"
   ]
  },
  {
   "cell_type": "code",
   "execution_count": 135,
   "metadata": {},
   "outputs": [
    {
     "name": "stdout",
     "output_type": "stream",
     "text": [
      "True\n",
      "['Thomas', 31, 3.1416, 'Un nouvel ordinateur', True]\n"
     ]
    }
   ],
   "source": [
    "condition = age > 14\n",
    "print(condition)\n",
    "ma_liste.append(condition)\n",
    "print(ma_liste)"
   ]
  },
  {
   "cell_type": "markdown",
   "metadata": {},
   "source": [
    "Les booléens fonctionnent étroitement avec `if`, ou 'si'. Cette commande est très utile:"
   ]
  },
  {
   "cell_type": "code",
   "execution_count": 136,
   "metadata": {},
   "outputs": [
    {
     "name": "stdout",
     "output_type": "stream",
     "text": [
      "Fiou, tu n'es pas si vieux.\n"
     ]
    }
   ],
   "source": [
    "# On donne à 'if' une condition à vérifier. Ici, on regarde si tu as moins de 1000 ans. \n",
    "# Si c'est le cas, on exécute le code sous-imbriqué suivant:\n",
    "if age < 1000:\n",
    "    print(\"Fiou, tu n'es pas si vieux.\")"
   ]
  },
  {
   "cell_type": "code",
   "execution_count": 137,
   "metadata": {},
   "outputs": [
    {
     "name": "stdout",
     "output_type": "stream",
     "text": [
      "False\n"
     ]
    }
   ],
   "source": [
    "# On peut aussi donner à 'if' un booléen!\n",
    "condition2 = age < 2\n",
    "print(condition2)\n",
    "if condition2:\n",
    "    print('Tu est jeune dis donc?')"
   ]
  },
  {
   "cell_type": "markdown",
   "metadata": {},
   "source": [
    "On peut remarquer que le texte 'Tu es jeune dis donc?' Ne s'est jamais imprimé. C'est parce que le booléen storé dans `condition2` est faux! On n'entre donc pas dans le code sous-imbriqué. \n",
    "\n",
    "Il existe aussi d'autres mots clés, comme `else` et `elif`. Je parlerai seulement du premier. On pourrait faire quelque chose dans le cas où notre première condition n'est pas remplie!"
   ]
  },
  {
   "cell_type": "code",
   "execution_count": 138,
   "metadata": {},
   "outputs": [
    {
     "name": "stdout",
     "output_type": "stream",
     "text": [
      "b est plus grand que 8\n"
     ]
    }
   ],
   "source": [
    "# if et else peuvent être interprétés littéralement comme 'si' et 'sinon'. Voilà un exemple:\n",
    "# Tu peux modifier la valeur de b pour essayer les différents résultats.\n",
    "\n",
    "b = 10\n",
    "\n",
    "if b > 8:\n",
    "    print('b est plus grand que 8')\n",
    "else:\n",
    "    print('b est plus petit ou égal à 8')\n",
    "    "
   ]
  },
  {
   "cell_type": "markdown",
   "metadata": {},
   "source": [
    "Nous possédons maintenant tout les outils pour s'attaquer à la boucle `while`... C'est normal que tu puisses te sentir confu, beaucoup de choses va se passer dans la prochaine cellule! Nous irons tout doucement. "
   ]
  },
  {
   "cell_type": "code",
   "execution_count": 139,
   "metadata": {
    "scrolled": true
   },
   "outputs": [
    {
     "name": "stdout",
     "output_type": "stream",
     "text": [
      "0\n",
      "1\n",
      "2\n",
      "3\n",
      "4\n",
      "5\n",
      "6\n",
      "7\n",
      "8\n",
      "9\n",
      "Voilà c'est fini\n"
     ]
    }
   ],
   "source": [
    "# On définit une variable qui sera changé à chaque pas de la boucle. La variable commence à zéro\n",
    "i = 0\n",
    "\n",
    "# À chaque itération, on vérifie si la condition est remplie.\n",
    "while i != 10: \n",
    "    print(i) # Pour chaque itération, on regarde la valeur de i!\n",
    "    i = i + 1 # Tant que i n'est pas égal à 10, on l'imprime à chaque tour.\n",
    "    \n",
    "print(\"Voilà c'est fini\") # On imprime un petit message lorsque c'est terminé"
   ]
  },
  {
   "cell_type": "markdown",
   "metadata": {},
   "source": [
    "La boucle `while`, ou 'pendant', exécute des lignes de code jusqu'à ce qu'une condition ne soit plus remplie. Dans le dernier cas, `i` avait la valeur de 0, puis 1, puis 2,... jusqu'à ce qu'elle atteigne 10. À cette itération, on sort de la boucle et on passe aux prochaines lignes de code. La boucle while est moins souvent utilisée, elle peut s'avérer dangereuse si la condition est toujours vraie..."
   ]
  },
  {
   "cell_type": "markdown",
   "metadata": {},
   "source": [
    "Te voilà donc équipé avec quelques connaissances de base pour tenter quelques exercices! Ne t'en fais pas si tu te sens submergé, c'est complètement normal! Ce court tutoriel tente de synthétiser plusieurs choses à la fois, et tu en es un le premier cobaye.\n",
    "\n",
    "Voilà donc ton premier exercice... Ne t'en fais pas si tu ne réussis pas à le compléter, nous l'essaierons ensemble!\n",
    "\n",
    "## Les années bissextiles\n",
    "\n",
    "Est-il simple de déterminer si une année est bissextile? Il existe en fait cinq règles très simples:\n",
    "\n",
    "1. Si l'année est divisible par 4, passes à l'étape 2. Sinon, passe à l'étape 5.\n",
    "2. Si l’année est divisible par 100, passez à l’étape 3. Sinon, passez à l’étape 4.\n",
    "3. Si l’année est divisible par 400, passez à l’étape 4. Sinon, passez à l’étape 5.\n",
    "4. L’année est une année bissextile (elle a 366 jours).\n",
    "5. L’année n’est pas une année bissextile (elle a 365 jours).\n",
    "\n",
    "Dans la cellule de code suivante, avec quelques lignes déjà écrites, tente de déterminer si l'année 2021 est bissextile en remplaçant chaque point d'interrogation `?` par la valeur appropriée.\n",
    "\n",
    "### Indices et rappels\n",
    "\n",
    "* Un nombre $a$ est divisible par un nombre $b$ si $a\\ \\% \\ b = 0$\n",
    "* Une tabulation, crée en appuyant sur `tab` est nécessaire pour entrer dans une sous-section de code, crée par les `if` et `else`.\n",
    "* Tu peux imbriquer plusieurs ``if`` et ``else`` ensemble!\n",
    "* Tu peux vérifier si $a=b$ avec `==`"
   ]
  },
  {
   "cell_type": "code",
   "execution_count": 140,
   "metadata": {},
   "outputs": [
    {
     "ename": "SyntaxError",
     "evalue": "invalid syntax (<ipython-input-140-f4b96c1c4177>, line 3)",
     "output_type": "error",
     "traceback": [
      "\u001b[1;36m  File \u001b[1;32m\"<ipython-input-140-f4b96c1c4177>\"\u001b[1;36m, line \u001b[1;32m3\u001b[0m\n\u001b[1;33m    if (? ? ?) ? ?:\u001b[0m\n\u001b[1;37m        ^\u001b[0m\n\u001b[1;31mSyntaxError\u001b[0m\u001b[1;31m:\u001b[0m invalid syntax\n"
     ]
    }
   ],
   "source": [
    "année = 2021\n",
    "\n",
    "if (? ? ?) ? ?:\n",
    "    if (? ? ?) ? ?:\n",
    "        if (? ? ?) ? ?:\n",
    "            print(str(année) + \" est bissextile!\")\n",
    "        else:\n",
    "            print(str(année) + \" n'est pas bissextile :'('\")\n",
    "    else:\n",
    "        print(str(année) + \" est bissextile!\")\n",
    "else:\n",
    "    print(str(année) + \" n'est pas bissextile :'('\")\n",
    "        "
   ]
  }
 ],
 "metadata": {
  "kernelspec": {
   "display_name": "Python 3",
   "language": "python",
   "name": "python3"
  }
 },
 "nbformat": 4,
 "nbformat_minor": 4
}
